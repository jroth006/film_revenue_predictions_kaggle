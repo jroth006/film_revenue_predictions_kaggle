{
 "cells": [
  {
   "cell_type": "code",
   "execution_count": 1,
   "metadata": {},
   "outputs": [],
   "source": [
    "import pandas as pd\n",
    "import re"
   ]
  },
  {
   "cell_type": "markdown",
   "metadata": {},
   "source": [
    "## Reading in data and looking at values - no changes"
   ]
  },
  {
   "cell_type": "code",
   "execution_count": 2,
   "metadata": {},
   "outputs": [
    {
     "data": {
      "text/html": [
       "<div>\n",
       "<style scoped>\n",
       "    .dataframe tbody tr th:only-of-type {\n",
       "        vertical-align: middle;\n",
       "    }\n",
       "\n",
       "    .dataframe tbody tr th {\n",
       "        vertical-align: top;\n",
       "    }\n",
       "\n",
       "    .dataframe thead th {\n",
       "        text-align: right;\n",
       "    }\n",
       "</style>\n",
       "<table border=\"1\" class=\"dataframe\">\n",
       "  <thead>\n",
       "    <tr style=\"text-align: right;\">\n",
       "      <th></th>\n",
       "      <th>id</th>\n",
       "      <th>belongs_to_collection</th>\n",
       "      <th>budget</th>\n",
       "      <th>genres</th>\n",
       "      <th>homepage</th>\n",
       "      <th>imdb_id</th>\n",
       "      <th>original_language</th>\n",
       "      <th>original_title</th>\n",
       "      <th>overview</th>\n",
       "      <th>popularity</th>\n",
       "      <th>...</th>\n",
       "      <th>release_date</th>\n",
       "      <th>runtime</th>\n",
       "      <th>spoken_languages</th>\n",
       "      <th>status</th>\n",
       "      <th>tagline</th>\n",
       "      <th>title</th>\n",
       "      <th>Keywords</th>\n",
       "      <th>cast</th>\n",
       "      <th>crew</th>\n",
       "      <th>revenue</th>\n",
       "    </tr>\n",
       "  </thead>\n",
       "  <tbody>\n",
       "    <tr>\n",
       "      <th>0</th>\n",
       "      <td>1</td>\n",
       "      <td>[{'id': 313576, 'name': 'Hot Tub Time Machine ...</td>\n",
       "      <td>14000000</td>\n",
       "      <td>[{'id': 35, 'name': 'Comedy'}]</td>\n",
       "      <td>NaN</td>\n",
       "      <td>tt2637294</td>\n",
       "      <td>en</td>\n",
       "      <td>Hot Tub Time Machine 2</td>\n",
       "      <td>When Lou, who has become the \"father of the In...</td>\n",
       "      <td>6.575393</td>\n",
       "      <td>...</td>\n",
       "      <td>2/20/15</td>\n",
       "      <td>93.0</td>\n",
       "      <td>[{'iso_639_1': 'en', 'name': 'English'}]</td>\n",
       "      <td>Released</td>\n",
       "      <td>The Laws of Space and Time are About to be Vio...</td>\n",
       "      <td>Hot Tub Time Machine 2</td>\n",
       "      <td>[{'id': 4379, 'name': 'time travel'}, {'id': 9...</td>\n",
       "      <td>[{'cast_id': 4, 'character': 'Lou', 'credit_id...</td>\n",
       "      <td>[{'credit_id': '59ac067c92514107af02c8c8', 'de...</td>\n",
       "      <td>12314651</td>\n",
       "    </tr>\n",
       "    <tr>\n",
       "      <th>1</th>\n",
       "      <td>2</td>\n",
       "      <td>[{'id': 107674, 'name': 'The Princess Diaries ...</td>\n",
       "      <td>40000000</td>\n",
       "      <td>[{'id': 35, 'name': 'Comedy'}, {'id': 18, 'nam...</td>\n",
       "      <td>NaN</td>\n",
       "      <td>tt0368933</td>\n",
       "      <td>en</td>\n",
       "      <td>The Princess Diaries 2: Royal Engagement</td>\n",
       "      <td>Mia Thermopolis is now a college graduate and ...</td>\n",
       "      <td>8.248895</td>\n",
       "      <td>...</td>\n",
       "      <td>8/6/04</td>\n",
       "      <td>113.0</td>\n",
       "      <td>[{'iso_639_1': 'en', 'name': 'English'}]</td>\n",
       "      <td>Released</td>\n",
       "      <td>It can take a lifetime to find true love; she'...</td>\n",
       "      <td>The Princess Diaries 2: Royal Engagement</td>\n",
       "      <td>[{'id': 2505, 'name': 'coronation'}, {'id': 42...</td>\n",
       "      <td>[{'cast_id': 1, 'character': 'Mia Thermopolis'...</td>\n",
       "      <td>[{'credit_id': '52fe43fe9251416c7502563d', 'de...</td>\n",
       "      <td>95149435</td>\n",
       "    </tr>\n",
       "    <tr>\n",
       "      <th>2</th>\n",
       "      <td>3</td>\n",
       "      <td>NaN</td>\n",
       "      <td>3300000</td>\n",
       "      <td>[{'id': 18, 'name': 'Drama'}]</td>\n",
       "      <td>http://sonyclassics.com/whiplash/</td>\n",
       "      <td>tt2582802</td>\n",
       "      <td>en</td>\n",
       "      <td>Whiplash</td>\n",
       "      <td>Under the direction of a ruthless instructor, ...</td>\n",
       "      <td>64.299990</td>\n",
       "      <td>...</td>\n",
       "      <td>10/10/14</td>\n",
       "      <td>105.0</td>\n",
       "      <td>[{'iso_639_1': 'en', 'name': 'English'}]</td>\n",
       "      <td>Released</td>\n",
       "      <td>The road to greatness can take you to the edge.</td>\n",
       "      <td>Whiplash</td>\n",
       "      <td>[{'id': 1416, 'name': 'jazz'}, {'id': 1523, 'n...</td>\n",
       "      <td>[{'cast_id': 5, 'character': 'Andrew Neimann',...</td>\n",
       "      <td>[{'credit_id': '54d5356ec3a3683ba0000039', 'de...</td>\n",
       "      <td>13092000</td>\n",
       "    </tr>\n",
       "  </tbody>\n",
       "</table>\n",
       "<p>3 rows × 23 columns</p>\n",
       "</div>"
      ],
      "text/plain": [
       "   id                              belongs_to_collection    budget  \\\n",
       "0   1  [{'id': 313576, 'name': 'Hot Tub Time Machine ...  14000000   \n",
       "1   2  [{'id': 107674, 'name': 'The Princess Diaries ...  40000000   \n",
       "2   3                                                NaN   3300000   \n",
       "\n",
       "                                              genres  \\\n",
       "0                     [{'id': 35, 'name': 'Comedy'}]   \n",
       "1  [{'id': 35, 'name': 'Comedy'}, {'id': 18, 'nam...   \n",
       "2                      [{'id': 18, 'name': 'Drama'}]   \n",
       "\n",
       "                            homepage    imdb_id original_language  \\\n",
       "0                                NaN  tt2637294                en   \n",
       "1                                NaN  tt0368933                en   \n",
       "2  http://sonyclassics.com/whiplash/  tt2582802                en   \n",
       "\n",
       "                             original_title  \\\n",
       "0                    Hot Tub Time Machine 2   \n",
       "1  The Princess Diaries 2: Royal Engagement   \n",
       "2                                  Whiplash   \n",
       "\n",
       "                                            overview  popularity  ...  \\\n",
       "0  When Lou, who has become the \"father of the In...    6.575393  ...   \n",
       "1  Mia Thermopolis is now a college graduate and ...    8.248895  ...   \n",
       "2  Under the direction of a ruthless instructor, ...   64.299990  ...   \n",
       "\n",
       "  release_date runtime                          spoken_languages    status  \\\n",
       "0      2/20/15    93.0  [{'iso_639_1': 'en', 'name': 'English'}]  Released   \n",
       "1       8/6/04   113.0  [{'iso_639_1': 'en', 'name': 'English'}]  Released   \n",
       "2     10/10/14   105.0  [{'iso_639_1': 'en', 'name': 'English'}]  Released   \n",
       "\n",
       "                                             tagline  \\\n",
       "0  The Laws of Space and Time are About to be Vio...   \n",
       "1  It can take a lifetime to find true love; she'...   \n",
       "2    The road to greatness can take you to the edge.   \n",
       "\n",
       "                                      title  \\\n",
       "0                    Hot Tub Time Machine 2   \n",
       "1  The Princess Diaries 2: Royal Engagement   \n",
       "2                                  Whiplash   \n",
       "\n",
       "                                            Keywords  \\\n",
       "0  [{'id': 4379, 'name': 'time travel'}, {'id': 9...   \n",
       "1  [{'id': 2505, 'name': 'coronation'}, {'id': 42...   \n",
       "2  [{'id': 1416, 'name': 'jazz'}, {'id': 1523, 'n...   \n",
       "\n",
       "                                                cast  \\\n",
       "0  [{'cast_id': 4, 'character': 'Lou', 'credit_id...   \n",
       "1  [{'cast_id': 1, 'character': 'Mia Thermopolis'...   \n",
       "2  [{'cast_id': 5, 'character': 'Andrew Neimann',...   \n",
       "\n",
       "                                                crew   revenue  \n",
       "0  [{'credit_id': '59ac067c92514107af02c8c8', 'de...  12314651  \n",
       "1  [{'credit_id': '52fe43fe9251416c7502563d', 'de...  95149435  \n",
       "2  [{'credit_id': '54d5356ec3a3683ba0000039', 'de...  13092000  \n",
       "\n",
       "[3 rows x 23 columns]"
      ]
     },
     "execution_count": 2,
     "metadata": {},
     "output_type": "execute_result"
    }
   ],
   "source": [
    "## Read in training data\n",
    "\n",
    "movie_training_data = pd.read_csv('train.csv')\n",
    "\n",
    "movie_training_data.head(3)"
   ]
  },
  {
   "cell_type": "code",
   "execution_count": 3,
   "metadata": {},
   "outputs": [
    {
     "data": {
      "text/plain": [
       "\"[{'id': 313576, 'name': 'Hot Tub Time Machine Collection', 'poster_path': '/iEhb00TGPucF0b4joM1ieyY026U.jpg', 'backdrop_path': '/noeTVcgpBiD48fDjFVic1Vz7ope.jpg'}]\""
      ]
     },
     "execution_count": 3,
     "metadata": {},
     "output_type": "execute_result"
    }
   ],
   "source": [
    "## Looking at the \"belongs to collection\" column values. Provides additional data about the collection, which might be useful\n",
    "## for finding out how sequels impact revenue\n",
    "\n",
    "movie_training_data.iloc[0,1]"
   ]
  },
  {
   "cell_type": "code",
   "execution_count": 4,
   "metadata": {},
   "outputs": [
    {
     "data": {
      "text/plain": [
       "(3000, 23)"
      ]
     },
     "execution_count": 4,
     "metadata": {},
     "output_type": "execute_result"
    }
   ],
   "source": [
    "## Training Data is 3000 records, with 23 columns.\n",
    "\n",
    "movie_training_data.shape"
   ]
  },
  {
   "cell_type": "code",
   "execution_count": 5,
   "metadata": {},
   "outputs": [
    {
     "name": "stdout",
     "output_type": "stream",
     "text": [
      "<class 'pandas.core.frame.DataFrame'>\n",
      "RangeIndex: 3000 entries, 0 to 2999\n",
      "Data columns (total 23 columns):\n",
      "id                       3000 non-null int64\n",
      "belongs_to_collection    604 non-null object\n",
      "budget                   3000 non-null int64\n",
      "genres                   2993 non-null object\n",
      "homepage                 946 non-null object\n",
      "imdb_id                  3000 non-null object\n",
      "original_language        3000 non-null object\n",
      "original_title           3000 non-null object\n",
      "overview                 2992 non-null object\n",
      "popularity               3000 non-null float64\n",
      "poster_path              2999 non-null object\n",
      "production_companies     2844 non-null object\n",
      "production_countries     2945 non-null object\n",
      "release_date             3000 non-null object\n",
      "runtime                  2998 non-null float64\n",
      "spoken_languages         2980 non-null object\n",
      "status                   3000 non-null object\n",
      "tagline                  2403 non-null object\n",
      "title                    3000 non-null object\n",
      "Keywords                 2724 non-null object\n",
      "cast                     2987 non-null object\n",
      "crew                     2984 non-null object\n",
      "revenue                  3000 non-null int64\n",
      "dtypes: float64(2), int64(3), object(18)\n",
      "memory usage: 539.1+ KB\n"
     ]
    }
   ],
   "source": [
    "movie_training_data.info()"
   ]
  },
  {
   "cell_type": "code",
   "execution_count": 6,
   "metadata": {},
   "outputs": [
    {
     "data": {
      "text/html": [
       "<style  type=\"text/css\" >\n",
       "    #T_259fd57e_c1e2_11e9_b273_f49634e62a39row0_col0 {\n",
       "            background-color:  #b40426;\n",
       "            color:  #f1f1f1;\n",
       "        }    #T_259fd57e_c1e2_11e9_b273_f49634e62a39row0_col1 {\n",
       "            background-color:  #3b4cc0;\n",
       "            color:  #f1f1f1;\n",
       "        }    #T_259fd57e_c1e2_11e9_b273_f49634e62a39row0_col2 {\n",
       "            background-color:  #3b4cc0;\n",
       "            color:  #f1f1f1;\n",
       "        }    #T_259fd57e_c1e2_11e9_b273_f49634e62a39row0_col3 {\n",
       "            background-color:  #3b4cc0;\n",
       "            color:  #f1f1f1;\n",
       "        }    #T_259fd57e_c1e2_11e9_b273_f49634e62a39row0_col4 {\n",
       "            background-color:  #3b4cc0;\n",
       "            color:  #f1f1f1;\n",
       "        }    #T_259fd57e_c1e2_11e9_b273_f49634e62a39row1_col0 {\n",
       "            background-color:  #4257c9;\n",
       "            color:  #f1f1f1;\n",
       "        }    #T_259fd57e_c1e2_11e9_b273_f49634e62a39row1_col1 {\n",
       "            background-color:  #b40426;\n",
       "            color:  #f1f1f1;\n",
       "        }    #T_259fd57e_c1e2_11e9_b273_f49634e62a39row1_col2 {\n",
       "            background-color:  #aec9fc;\n",
       "            color:  #000000;\n",
       "        }    #T_259fd57e_c1e2_11e9_b273_f49634e62a39row1_col3 {\n",
       "            background-color:  #85a8fc;\n",
       "            color:  #000000;\n",
       "        }    #T_259fd57e_c1e2_11e9_b273_f49634e62a39row1_col4 {\n",
       "            background-color:  #f4987a;\n",
       "            color:  #000000;\n",
       "        }    #T_259fd57e_c1e2_11e9_b273_f49634e62a39row2_col0 {\n",
       "            background-color:  #3b4cc0;\n",
       "            color:  #f1f1f1;\n",
       "        }    #T_259fd57e_c1e2_11e9_b273_f49634e62a39row2_col1 {\n",
       "            background-color:  #a9c6fd;\n",
       "            color:  #000000;\n",
       "        }    #T_259fd57e_c1e2_11e9_b273_f49634e62a39row2_col2 {\n",
       "            background-color:  #b40426;\n",
       "            color:  #f1f1f1;\n",
       "        }    #T_259fd57e_c1e2_11e9_b273_f49634e62a39row2_col3 {\n",
       "            background-color:  #6180e9;\n",
       "            color:  #000000;\n",
       "        }    #T_259fd57e_c1e2_11e9_b273_f49634e62a39row2_col4 {\n",
       "            background-color:  #d3dbe7;\n",
       "            color:  #000000;\n",
       "        }    #T_259fd57e_c1e2_11e9_b273_f49634e62a39row3_col0 {\n",
       "            background-color:  #3f53c6;\n",
       "            color:  #f1f1f1;\n",
       "        }    #T_259fd57e_c1e2_11e9_b273_f49634e62a39row3_col1 {\n",
       "            background-color:  #84a7fc;\n",
       "            color:  #000000;\n",
       "        }    #T_259fd57e_c1e2_11e9_b273_f49634e62a39row3_col2 {\n",
       "            background-color:  #6687ed;\n",
       "            color:  #000000;\n",
       "        }    #T_259fd57e_c1e2_11e9_b273_f49634e62a39row3_col3 {\n",
       "            background-color:  #b40426;\n",
       "            color:  #f1f1f1;\n",
       "        }    #T_259fd57e_c1e2_11e9_b273_f49634e62a39row3_col4 {\n",
       "            background-color:  #81a4fb;\n",
       "            color:  #000000;\n",
       "        }    #T_259fd57e_c1e2_11e9_b273_f49634e62a39row4_col0 {\n",
       "            background-color:  #3d50c3;\n",
       "            color:  #f1f1f1;\n",
       "        }    #T_259fd57e_c1e2_11e9_b273_f49634e62a39row4_col1 {\n",
       "            background-color:  #f49a7b;\n",
       "            color:  #000000;\n",
       "        }    #T_259fd57e_c1e2_11e9_b273_f49634e62a39row4_col2 {\n",
       "            background-color:  #d4dbe6;\n",
       "            color:  #000000;\n",
       "        }    #T_259fd57e_c1e2_11e9_b273_f49634e62a39row4_col3 {\n",
       "            background-color:  #7ea1fa;\n",
       "            color:  #000000;\n",
       "        }    #T_259fd57e_c1e2_11e9_b273_f49634e62a39row4_col4 {\n",
       "            background-color:  #b40426;\n",
       "            color:  #f1f1f1;\n",
       "        }</style><table id=\"T_259fd57e_c1e2_11e9_b273_f49634e62a39\" ><thead>    <tr>        <th class=\"blank level0\" ></th>        <th class=\"col_heading level0 col0\" >id</th>        <th class=\"col_heading level0 col1\" >budget</th>        <th class=\"col_heading level0 col2\" >popularity</th>        <th class=\"col_heading level0 col3\" >runtime</th>        <th class=\"col_heading level0 col4\" >revenue</th>    </tr></thead><tbody>\n",
       "                <tr>\n",
       "                        <th id=\"T_259fd57e_c1e2_11e9_b273_f49634e62a39level0_row0\" class=\"row_heading level0 row0\" >id</th>\n",
       "                        <td id=\"T_259fd57e_c1e2_11e9_b273_f49634e62a39row0_col0\" class=\"data row0 col0\" >1</td>\n",
       "                        <td id=\"T_259fd57e_c1e2_11e9_b273_f49634e62a39row0_col1\" class=\"data row0 col1\" >0.0197323</td>\n",
       "                        <td id=\"T_259fd57e_c1e2_11e9_b273_f49634e62a39row0_col2\" class=\"data row0 col2\" >-0.00747</td>\n",
       "                        <td id=\"T_259fd57e_c1e2_11e9_b273_f49634e62a39row0_col3\" class=\"data row0 col3\" >0.0107498</td>\n",
       "                        <td id=\"T_259fd57e_c1e2_11e9_b273_f49634e62a39row0_col4\" class=\"data row0 col4\" >0.000609564</td>\n",
       "            </tr>\n",
       "            <tr>\n",
       "                        <th id=\"T_259fd57e_c1e2_11e9_b273_f49634e62a39level0_row1\" class=\"row_heading level0 row1\" >budget</th>\n",
       "                        <td id=\"T_259fd57e_c1e2_11e9_b273_f49634e62a39row1_col0\" class=\"data row1 col0\" >0.0197323</td>\n",
       "                        <td id=\"T_259fd57e_c1e2_11e9_b273_f49634e62a39row1_col1\" class=\"data row1 col1\" >1</td>\n",
       "                        <td id=\"T_259fd57e_c1e2_11e9_b273_f49634e62a39row1_col2\" class=\"data row1 col2\" >0.342356</td>\n",
       "                        <td id=\"T_259fd57e_c1e2_11e9_b273_f49634e62a39row1_col3\" class=\"data row1 col3\" >0.238373</td>\n",
       "                        <td id=\"T_259fd57e_c1e2_11e9_b273_f49634e62a39row1_col4\" class=\"data row1 col4\" >0.752965</td>\n",
       "            </tr>\n",
       "            <tr>\n",
       "                        <th id=\"T_259fd57e_c1e2_11e9_b273_f49634e62a39level0_row2\" class=\"row_heading level0 row2\" >popularity</th>\n",
       "                        <td id=\"T_259fd57e_c1e2_11e9_b273_f49634e62a39row2_col0\" class=\"data row2 col0\" >-0.00747</td>\n",
       "                        <td id=\"T_259fd57e_c1e2_11e9_b273_f49634e62a39row2_col1\" class=\"data row2 col1\" >0.342356</td>\n",
       "                        <td id=\"T_259fd57e_c1e2_11e9_b273_f49634e62a39row2_col2\" class=\"data row2 col2\" >1</td>\n",
       "                        <td id=\"T_259fd57e_c1e2_11e9_b273_f49634e62a39row2_col3\" class=\"data row2 col3\" >0.13369</td>\n",
       "                        <td id=\"T_259fd57e_c1e2_11e9_b273_f49634e62a39row2_col4\" class=\"data row2 col4\" >0.46146</td>\n",
       "            </tr>\n",
       "            <tr>\n",
       "                        <th id=\"T_259fd57e_c1e2_11e9_b273_f49634e62a39level0_row3\" class=\"row_heading level0 row3\" >runtime</th>\n",
       "                        <td id=\"T_259fd57e_c1e2_11e9_b273_f49634e62a39row3_col0\" class=\"data row3 col0\" >0.0107498</td>\n",
       "                        <td id=\"T_259fd57e_c1e2_11e9_b273_f49634e62a39row3_col1\" class=\"data row3 col1\" >0.238373</td>\n",
       "                        <td id=\"T_259fd57e_c1e2_11e9_b273_f49634e62a39row3_col2\" class=\"data row3 col2\" >0.13369</td>\n",
       "                        <td id=\"T_259fd57e_c1e2_11e9_b273_f49634e62a39row3_col3\" class=\"data row3 col3\" >1</td>\n",
       "                        <td id=\"T_259fd57e_c1e2_11e9_b273_f49634e62a39row3_col4\" class=\"data row3 col4\" >0.21638</td>\n",
       "            </tr>\n",
       "            <tr>\n",
       "                        <th id=\"T_259fd57e_c1e2_11e9_b273_f49634e62a39level0_row4\" class=\"row_heading level0 row4\" >revenue</th>\n",
       "                        <td id=\"T_259fd57e_c1e2_11e9_b273_f49634e62a39row4_col0\" class=\"data row4 col0\" >0.000609564</td>\n",
       "                        <td id=\"T_259fd57e_c1e2_11e9_b273_f49634e62a39row4_col1\" class=\"data row4 col1\" >0.752965</td>\n",
       "                        <td id=\"T_259fd57e_c1e2_11e9_b273_f49634e62a39row4_col2\" class=\"data row4 col2\" >0.46146</td>\n",
       "                        <td id=\"T_259fd57e_c1e2_11e9_b273_f49634e62a39row4_col3\" class=\"data row4 col3\" >0.21638</td>\n",
       "                        <td id=\"T_259fd57e_c1e2_11e9_b273_f49634e62a39row4_col4\" class=\"data row4 col4\" >1</td>\n",
       "            </tr>\n",
       "    </tbody></table>"
      ],
      "text/plain": [
       "<pandas.io.formats.style.Styler at 0x170c2b6f278>"
      ]
     },
     "execution_count": 6,
     "metadata": {},
     "output_type": "execute_result"
    }
   ],
   "source": [
    "## Not a lot of correlation between the initial numeric columns\n",
    "\n",
    "corr_matrix = movie_training_data.corr()\n",
    "\n",
    "corr_matrix.style.background_gradient(cmap = 'coolwarm')"
   ]
  },
  {
   "cell_type": "markdown",
   "metadata": {},
   "source": [
    "## Expanding features"
   ]
  },
  {
   "cell_type": "markdown",
   "metadata": {},
   "source": [
    "#### Looking at film language - heavily skewed to English titles"
   ]
  },
  {
   "cell_type": "code",
   "execution_count": 7,
   "metadata": {},
   "outputs": [],
   "source": [
    "language_pct_of_revenue = movie_training_data.groupby(['original_language'])['revenue'].sum()\n",
    "language_pct_of_revenue = language_pct_of_revenue.to_frame().reset_index()"
   ]
  },
  {
   "cell_type": "code",
   "execution_count": 8,
   "metadata": {},
   "outputs": [],
   "source": [
    "## Calculating total revenue, then figuring out the % of total revenue per language\n",
    "\n",
    "total_rev = sum(language_pct_of_revenue.revenue)\n",
    "\n",
    "language_pct_of_revenue['pct_of_total'] = ['%f'%(i/total_rev) for i in language_pct_of_revenue['revenue']]"
   ]
  },
  {
   "cell_type": "code",
   "execution_count": 9,
   "metadata": {},
   "outputs": [
    {
     "data": {
      "text/html": [
       "<div>\n",
       "<style scoped>\n",
       "    .dataframe tbody tr th:only-of-type {\n",
       "        vertical-align: middle;\n",
       "    }\n",
       "\n",
       "    .dataframe tbody tr th {\n",
       "        vertical-align: top;\n",
       "    }\n",
       "\n",
       "    .dataframe thead th {\n",
       "        text-align: right;\n",
       "    }\n",
       "</style>\n",
       "<table border=\"1\" class=\"dataframe\">\n",
       "  <thead>\n",
       "    <tr style=\"text-align: right;\">\n",
       "      <th></th>\n",
       "      <th>original_language</th>\n",
       "      <th>revenue</th>\n",
       "      <th>pct_of_total</th>\n",
       "    </tr>\n",
       "  </thead>\n",
       "  <tbody>\n",
       "    <tr>\n",
       "      <th>0</th>\n",
       "      <td>en</td>\n",
       "      <td>192264714932</td>\n",
       "      <td>0.960471</td>\n",
       "    </tr>\n",
       "    <tr>\n",
       "      <th>1</th>\n",
       "      <td>zh</td>\n",
       "      <td>1337151014</td>\n",
       "      <td>0.006680</td>\n",
       "    </tr>\n",
       "    <tr>\n",
       "      <th>2</th>\n",
       "      <td>fr</td>\n",
       "      <td>1336340121</td>\n",
       "      <td>0.006676</td>\n",
       "    </tr>\n",
       "    <tr>\n",
       "      <th>3</th>\n",
       "      <td>ja</td>\n",
       "      <td>1134116556</td>\n",
       "      <td>0.005666</td>\n",
       "    </tr>\n",
       "    <tr>\n",
       "      <th>4</th>\n",
       "      <td>hi</td>\n",
       "      <td>1064547487</td>\n",
       "      <td>0.005318</td>\n",
       "    </tr>\n",
       "  </tbody>\n",
       "</table>\n",
       "</div>"
      ],
      "text/plain": [
       "  original_language       revenue pct_of_total\n",
       "0                en  192264714932     0.960471\n",
       "1                zh    1337151014     0.006680\n",
       "2                fr    1336340121     0.006676\n",
       "3                ja    1134116556     0.005666\n",
       "4                hi    1064547487     0.005318"
      ]
     },
     "execution_count": 9,
     "metadata": {},
     "output_type": "execute_result"
    }
   ],
   "source": [
    "## Sort values by language - English accounts for 96% of all revenue in our training data\n",
    "\n",
    "language_pct_of_revenue.sort_values(['pct_of_total'], ascending = False).reset_index(drop = True).head()"
   ]
  },
  {
   "cell_type": "markdown",
   "metadata": {},
   "source": [
    "#### Exploring cast - the idea that certain actors/actresses bring in revenue"
   ]
  },
  {
   "cell_type": "code",
   "execution_count": 10,
   "metadata": {},
   "outputs": [],
   "source": [
    "def meta_data_search(regex, column_searched):\n",
    "    name_search = re.compile(regex)\n",
    "    return([name_search.findall(str(i)) for i in movie_training_data[column_searched]])"
   ]
  },
  {
   "cell_type": "code",
   "execution_count": 11,
   "metadata": {},
   "outputs": [],
   "source": [
    "## Cast ID's look to be in descending order based on how they are credited\n",
    "\n",
    "movie_training_data['cast_ids'] = meta_data_search(\"\\'id\\'\\:\\s(\\d+)\", \"cast\")"
   ]
  },
  {
   "cell_type": "code",
   "execution_count": 12,
   "metadata": {},
   "outputs": [],
   "source": [
    "## Find actor/actress names and append them to a list - accounting for full names that contain between 1-4 names\n",
    "## Backup option in case id# isn't reliable\n",
    "\n",
    "movie_training_data['cast_names'] = meta_data_search(\"\\'name\\'\\:\\s\\'(\\w|\\w+\\s\\w+|\\w+\\s\\w+\\s\\w+|\\w+\\s\\w+\\s\\w+\\s\\w+)\\'\", \"cast\")"
   ]
  },
  {
   "cell_type": "code",
   "execution_count": null,
   "metadata": {},
   "outputs": [],
   "source": []
  }
 ],
 "metadata": {
  "kernelspec": {
   "display_name": "Python 3",
   "language": "python",
   "name": "python3"
  },
  "language_info": {
   "codemirror_mode": {
    "name": "ipython",
    "version": 3
   },
   "file_extension": ".py",
   "mimetype": "text/x-python",
   "name": "python",
   "nbconvert_exporter": "python",
   "pygments_lexer": "ipython3",
   "version": "3.7.3"
  }
 },
 "nbformat": 4,
 "nbformat_minor": 2
}
